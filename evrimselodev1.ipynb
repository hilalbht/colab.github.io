{
  "nbformat": 4,
  "nbformat_minor": 0,
  "metadata": {
    "colab": {
      "provenance": [],
      "authorship_tag": "ABX9TyM2y1VIDweI6h0f95vBF2zL",
      "include_colab_link": true
    },
    "kernelspec": {
      "name": "python3",
      "display_name": "Python 3"
    },
    "language_info": {
      "name": "python"
    }
  },
  "cells": [
    {
      "cell_type": "markdown",
      "metadata": {
        "id": "view-in-github",
        "colab_type": "text"
      },
      "source": [
        "<a href=\"https://colab.research.google.com/github/hilalbht/hilalbahat.github.io/blob/main/evrimselodev1.ipynb\" target=\"_parent\"><img src=\"https://colab.research.google.com/assets/colab-badge.svg\" alt=\"Open In Colab\"/></a>"
      ]
    },
    {
      "cell_type": "code",
      "execution_count": null,
      "metadata": {
        "id": "4FM3Wi9LuzzG"
      },
      "outputs": [],
      "source": [
        "import matplotlib.pyplot as plt\n",
        "import numpy as np\n",
        "\n",
        "def display_board(genotype):\n",
        "    \"\"\"\n",
        "    Genotip → Konsol çıktısı (8x8)\n",
        "    Boş kare: '.', Vezir: 'Q'\n",
        "    \"\"\"\n",
        "    size = len(genotype)\n",
        "    for row in range(1, size + 1):\n",
        "        line = \"\"\n",
        "        for col in range(size):\n",
        "            if genotype[col] == row:\n",
        "                line += \"Q \"\n",
        "            else:\n",
        "                line += \". \"\n",
        "        print(line.strip())\n",
        "def display_board_graphical(genotype):\n",
        "    \"\"\"\n",
        "    Genotip → Görsel satranç tahtası (matplotlib)\n",
        "    Vezirler kırmızı 'Q' ile gösterilecek\n",
        "    \"\"\"\n",
        "    size = len(genotype)\n",
        "\n",
        "    # 8x8 boş tahtayı oluştur (satranç deseni)\n",
        "    board = np.zeros((size, size))\n",
        "    for row in range(size):\n",
        "        for col in range(size):\n",
        "            if (row + col) % 2 == 0:\n",
        "                board[row, col] = 1  # Beyaz kare\n",
        "            else:\n",
        "                board[row, col] = 0  # Siyah kare\n",
        "\n",
        "    fig, ax = plt.subplots()\n",
        "    ax.imshow(board, cmap='binary')\n",
        "\n",
        "    # Vezirleri yerleştir\n",
        "    for col, row in enumerate(genotype):\n",
        "        ax.text(col, row - 1, 'Q', color='red', fontsize=20, ha='center', va='center')\n",
        "\n",
        "    ax.set_xticks([])\n",
        "    ax.set_yticks([])\n",
        "    ax.set_title(\"8 Vezir Problemi\")\n",
        "    plt.show()\n",
        "\n"
      ]
    },
    {
      "cell_type": "code",
      "source": [
        "genotype = [4, 2, 7, 3, 6, 8, 5, 1]\n",
        "\n",
        "# Konsol çıktısı\n",
        "print(\"Konsol çıktısı:\")\n",
        "display_board(genotype)\n",
        "\n",
        "# Grafik çıktısı\n",
        "display_board_graphical(genotype)\n"
      ],
      "metadata": {
        "colab": {
          "base_uri": "https://localhost:8080/",
          "height": 584
        },
        "id": "IPMWM7m-vI0S",
        "outputId": "1d67bc0b-4aad-4330-8680-f74108407f40"
      },
      "execution_count": null,
      "outputs": [
        {
          "output_type": "stream",
          "name": "stdout",
          "text": [
            "Konsol çıktısı:\n",
            ". . . . . . . Q\n",
            ". Q . . . . . .\n",
            ". . . Q . . . .\n",
            "Q . . . . . . .\n",
            ". . . . . . Q .\n",
            ". . . . Q . . .\n",
            ". . Q . . . . .\n",
            ". . . . . Q . .\n"
          ]
        },
        {
          "output_type": "display_data",
          "data": {
            "text/plain": [
              "<Figure size 640x480 with 1 Axes>"
            ],
            "image/png": "[encoded data removed]"
          },
          "metadata": {}
        }
      ]
    }
  ]
}